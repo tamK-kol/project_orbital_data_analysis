{
 "cells": [
  {
   "cell_type": "code",
   "execution_count": null,
   "metadata": {},
   "outputs": [],
   "source": [
    "import pandas as pd\n",
    "import numpy as np\n",
    "from sklearn.ensemble import RandomForestClassifier\n",
    "from sklearn.model_selection import train_test_split\n",
    "from sklearn.metrics import accuracy_score\n",
    "import matplotlib.pyplot as plt\n",
    "\n",
    "# Load data\n",
    "data = pd.read_csv('sma_data.csv')\n",
    "\n",
    "# Preprocess data\n",
    "data['datetime'] = pd.to_datetime(data['datetime'])\n",
    "data['sma'] = (data['sma'] - data['sma'].mean()) / data['sma'].std()\n",
    "\n",
    "# Extract features\n",
    "window_size = 60  # 1 hour\n",
    "features = []\n",
    "for i in range(len(data) - window_size):\n",
    "    window = data.iloc[i:i+window_size]\n",
    "    mean_sma = window['sma'].mean()\n",
    "    std_sma = window['sma'].std()\n",
    "    slope_sma = (window['sma'].iloc[-1] - window['sma'].iloc[0]) / window_size\n",
    "    features.append([mean_sma, std_sma, slope_sma])\n",
    "\n",
    "# Create labels\n",
    "labels = np.zeros(len(features))\n",
    "for i in range(len(labels)):\n",
    "    if data.iloc[i+window_size]['sma'] > data.iloc[i]['sma'] + 0.1:\n",
    "        labels[i] = 1  # maneuver detected\n",
    "\n",
    "# Split data into training and testing sets\n",
    "X_train, X_test, y_train, y_test = train_test_split(features, labels, test_size=0.2, random_state=42)\n",
    "\n",
    "# Train random forest model\n",
    "model = RandomForestClassifier(n_estimators=100, random_state=42)\n",
    "model.fit(X_train, y_train)\n",
    "\n",
    "# Evaluate model\n",
    "y_pred = model.predict(X_test)\n",
    "accuracy = accuracy_score(y_test, y_pred)\n",
    "print(f'Accuracy: {accuracy:.3f}')\n",
    "\n",
    "# Plot detected maneuvers\n",
    "detected_maneuvers = np.where(y_pred == 1)[0]\n",
    "plt.plot(data['datetime'], data['sma'])\n",
    "plt.scatter(data['datetime'].iloc[detected_maneuvers], data['sma'].iloc[detected_maneuvers], c='r')\n",
    "plt.show()"
   ]
  }
 ],
 "metadata": {
  "language_info": {
   "name": "python"
  }
 },
 "nbformat": 4,
 "nbformat_minor": 2
}
